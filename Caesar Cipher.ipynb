{
 "cells": [
  {
   "cell_type": "code",
   "execution_count": 6,
   "id": "0aa35657",
   "metadata": {},
   "outputs": [
    {
     "name": "stdout",
     "output_type": "stream",
     "text": [
      "hfjxfw\n",
      "caesar\n"
     ]
    }
   ],
   "source": [
    "alf_list = [\"a\",\"b\",\"c\",\"d\",\"e\",\"f\",\"g\",\"h\",\"i\",\"j\",\"k\",\"l\",\"m\",\"n\",\"o\",\"p\",\"q\",\"r\",\"s\",\"t\",\"u\",\"v\",\"w\",\"x\",\"y\",\"z\"]\n",
    "\n",
    "def encrypt(og_wd, shift_amt):\n",
    "    new_str = \"\"\n",
    "    ltr_ind = 0\n",
    "    for i in og_wd:\n",
    "        ltr_ind = alf_list.index(i)\n",
    "        if ltr_ind + shift_amt <= 25:\n",
    "            new_str += alf_list[ltr_ind + shift_amt]\n",
    "        else:\n",
    "            new_str += alf_list[ltr_ind + shift_amt - 26]\n",
    "    \n",
    "    return new_str\n",
    "\n",
    "def decrypt(crypt_wd, shiftbk_amt):\n",
    "    new_str = \"\"\n",
    "    ltr_ind = 0\n",
    "    for i in crypt_wd:\n",
    "        ltr_ind = alf_list.index(i)\n",
    "        new_str += alf_list[ltr_ind - shiftbk_amt]\n",
    "        \n",
    "    \n",
    "    return new_str\n",
    "\n",
    "encryption = encrypt(\"caesar\",5)\n",
    "print(encryption)\n",
    "print(decrypt(encryption, 5))\n",
    "\n",
    "    "
   ]
  },
  {
   "cell_type": "code",
   "execution_count": null,
   "id": "5df49f0b",
   "metadata": {},
   "outputs": [],
   "source": []
  }
 ],
 "metadata": {
  "kernelspec": {
   "display_name": "Python 3 (ipykernel)",
   "language": "python",
   "name": "python3"
  },
  "language_info": {
   "codemirror_mode": {
    "name": "ipython",
    "version": 3
   },
   "file_extension": ".py",
   "mimetype": "text/x-python",
   "name": "python",
   "nbconvert_exporter": "python",
   "pygments_lexer": "ipython3",
   "version": "3.9.13"
  }
 },
 "nbformat": 4,
 "nbformat_minor": 5
}
