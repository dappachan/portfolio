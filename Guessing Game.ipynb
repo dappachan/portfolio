{
 "cells": [
  {
   "cell_type": "code",
   "execution_count": 2,
   "id": "f55b3eea",
   "metadata": {},
   "outputs": [
    {
     "name": "stdout",
     "output_type": "stream",
     "text": [
      "Welcome to the Guessing Game! I'm thinking of a number between 1 and 100.\n",
      "Please select whether you'd like to play on easy or hard. hard\n",
      "You get 5 tries to guess my number!\n",
      "Guess my number: 50\n",
      "Nope, too high!\n",
      "Guess my number: 20\n",
      "Too low!\n",
      "Guess my number: 40\n",
      "Nope, too high!\n",
      "Guess my number: 30\n",
      "Too low!\n",
      "Guess my number: 35\n",
      "Nope, too high!\n",
      "You lost! The number was 33.\n",
      "Would you like to play again? Enter yes or no: no\n"
     ]
    }
   ],
   "source": [
    "import random\n",
    "\n",
    "play_again = \"yes\"\n",
    "while play_again == \"yes\":\n",
    "    answer = random.choice(range(2,100))\n",
    "\n",
    "    print(\"Welcome to the Guessing Game! I'm thinking of a number between 1 and 100.\")\n",
    "\n",
    "    ez_hd = input(\"Please select whether you'd like to play on easy or hard. \")\n",
    "\n",
    "    counter = 0\n",
    "    limit = 0\n",
    "    guess = 0\n",
    "\n",
    "    if ez_hd == \"easy\":\n",
    "        limit = 10\n",
    "        print(\"You get 10 tries to guess my number!\")\n",
    "    elif ez_hd == \"hard\":\n",
    "        limit = 5\n",
    "        print(\"You get 5 tries to guess my number!\")\n",
    "\n",
    "    while guess != answer and counter < limit:\n",
    "        guess = int(input(\"Guess my number: \"))\n",
    "        if guess < answer:\n",
    "            print(\"Too low!\")\n",
    "        elif guess > answer:\n",
    "            print(\"Nope, too high!\")\n",
    "        else:\n",
    "            break\n",
    "        counter += 1\n",
    "\n",
    "    if guess == answer and counter <= limit:\n",
    "        print(f\"You won! The number was {answer}.\")\n",
    "    elif counter == limit and guess != answer:\n",
    "        print(f\"You lost! The number was {answer}.\")\n",
    "\n",
    "    play_again = input(\"Would you like to play again? Enter yes or no: \")\n"
   ]
  },
  {
   "cell_type": "code",
   "execution_count": null,
   "id": "3c300950",
   "metadata": {},
   "outputs": [],
   "source": []
  }
 ],
 "metadata": {
  "kernelspec": {
   "display_name": "Python 3 (ipykernel)",
   "language": "python",
   "name": "python3"
  },
  "language_info": {
   "codemirror_mode": {
    "name": "ipython",
    "version": 3
   },
   "file_extension": ".py",
   "mimetype": "text/x-python",
   "name": "python",
   "nbconvert_exporter": "python",
   "pygments_lexer": "ipython3",
   "version": "3.9.13"
  }
 },
 "nbformat": 4,
 "nbformat_minor": 5
}
